{
 "cells": [
  {
   "cell_type": "markdown",
   "metadata": {},
   "source": [
    "# Create a GCP Project"
   ]
  },
  {
   "cell_type": "code",
   "execution_count": 1,
   "metadata": {},
   "outputs": [
    {
     "name": "stdout",
     "output_type": "stream",
     "text": [
      "Create in progress for [https://cloudresourcemanager.googleapis.com/v1/projects/gcp-010-dev].\n",
      "Waiting for [operations/cp.8899168556928668871] to finish...done.              \n",
      "Enabling service [cloudapis.googleapis.com] on project [gcp-010-dev]...\n",
      "Operation \"operations/acat.p2-79711115406-94270f71-1276-44a9-a183-65c007dcd189\" finished successfully.\n",
      "\n",
      "\n",
      "Updates are available for some Google Cloud CLI components.  To install them,\n",
      "please run:\n",
      "  $ gcloud components update\n",
      "\n"
     ]
    }
   ],
   "source": [
    "!gcloud projects create gcp-010-dev --name=\"GCP Instance 010 Dev Env\""
   ]
  },
  {
   "cell_type": "code",
   "execution_count": 2,
   "metadata": {},
   "outputs": [
    {
     "name": "stdout",
     "output_type": "stream",
     "text": [
      "Create in progress for [https://cloudresourcemanager.googleapis.com/v1/projects/gcp-010-qa].\n",
      "Waiting for [operations/cp.7879356359943056793] to finish...done.              \n",
      "Enabling service [cloudapis.googleapis.com] on project [gcp-010-qa]...\n",
      "Operation \"operations/acat.p2-90021724246-55be1eca-c42f-4f4b-8d40-7be583f05776\" finished successfully.\n",
      "Create in progress for [https://cloudresourcemanager.googleapis.com/v1/projects/gcp-010-stage].\n",
      "Waiting for [operations/cp.5302212020203091469] to finish...done.              \n",
      "Enabling service [cloudapis.googleapis.com] on project [gcp-010-stage]...\n",
      "Operation \"operations/acat.p2-816970308969-b724988c-6f86-4dfe-854d-5a330649d1a6\" finished successfully.\n",
      "Create in progress for [https://cloudresourcemanager.googleapis.com/v1/projects/gcp-010-prod].\n",
      "Waiting for [operations/cp.9214114206713348463] to finish...done.              \n",
      "Enabling service [cloudapis.googleapis.com] on project [gcp-010-prod]...\n",
      "Operation \"operations/acat.p2-566182978083-0e5ec07f-e06b-48a6-9f27-ec0472554834\" finished successfully.\n"
     ]
    }
   ],
   "source": [
    "!gcloud projects create gcp-010-qa --name=\"GCP Instance 010 QA Env\"\n",
    "\n",
    "!gcloud projects create gcp-010-stage --name=\"GCP Instance 010 Stage Env\"\n",
    "\n",
    "!gcloud projects create gcp-010-prod --name=\"GCP Instance 010 Prod Env\""
   ]
  },
  {
   "cell_type": "markdown",
   "metadata": {},
   "source": [
    "# Create Service Account"
   ]
  },
  {
   "cell_type": "code",
   "execution_count": 3,
   "metadata": {},
   "outputs": [
    {
     "name": "stdout",
     "output_type": "stream",
     "text": [
      "Created service account [sa-function-runner].\n"
     ]
    }
   ],
   "source": [
    "!gcloud iam service-accounts \\\n",
    "    create sa-function-runner \\\n",
    "    --project=\"gcp-010-dev\" \\\n",
    "    --display-name=\"Service Account For Function Runner\" \\\n",
    "    --description=\"Service Account For Function Runner\""
   ]
  },
  {
   "cell_type": "code",
   "execution_count": 4,
   "metadata": {},
   "outputs": [
    {
     "name": "stdout",
     "output_type": "stream",
     "text": [
      "Created service account [sa-schedule-runner].\n",
      "Created service account [sa-pubsub-dataflow].\n",
      "Created service account [sa-data-team-specific].\n"
     ]
    }
   ],
   "source": [
    "!gcloud iam service-accounts \\\n",
    "    create sa-schedule-runner \\\n",
    "    --project=\"gcp-010-dev\" \\\n",
    "    --display-name=\"Service Account For Schedule Runner\" \\\n",
    "    --description=\"Service Account For Schedule Runner\"\n",
    "\n",
    "!gcloud iam service-accounts \\\n",
    "    create sa-pubsub-dataflow \\\n",
    "    --project=\"gcp-010-dev\" \\\n",
    "    --display-name=\"Service Account For Pub/Sub and Dataflow\" \\\n",
    "    --description=\"Service Account For Pub/Sub and Dataflow\"\n",
    "\n",
    "!gcloud iam service-accounts \\\n",
    "    create sa-data-team-specific \\\n",
    "    --project=\"gcp-010-dev\" \\\n",
    "    --display-name=\"Service Account For Data Team\" \\\n",
    "    --description=\"Service Account For Data Team\""
   ]
  },
  {
   "cell_type": "code",
   "execution_count": 5,
   "metadata": {},
   "outputs": [
    {
     "name": "stdout",
     "output_type": "stream",
     "text": [
      "Created service account [sa-function-runner].\n",
      "Created service account [sa-schedule-runner].\n",
      "Created service account [sa-pubsub-dataflow].\n",
      "Created service account [sa-data-team-specific].\n"
     ]
    }
   ],
   "source": [
    "!gcloud iam service-accounts \\\n",
    "    create sa-function-runner \\\n",
    "    --project=\"gcp-010-qa\" \\\n",
    "    --display-name=\"Service Account For Function Runner\" \\\n",
    "    --description=\"Service Account For Function Runner\"\n",
    "\n",
    "!gcloud iam service-accounts \\\n",
    "    create sa-schedule-runner \\\n",
    "    --project=\"gcp-010-qa\" \\\n",
    "    --display-name=\"Service Account For Schedule Runner\" \\\n",
    "    --description=\"Service Account For Schedule Runner\"\n",
    "\n",
    "!gcloud iam service-accounts \\\n",
    "    create sa-pubsub-dataflow \\\n",
    "    --project=\"gcp-010-qa\" \\\n",
    "    --display-name=\"Service Account For Pub/Sub and Dataflow\" \\\n",
    "    --description=\"Service Account For Pub/Sub and Dataflow\"\n",
    "\n",
    "!gcloud iam service-accounts \\\n",
    "    create sa-data-team-specific \\\n",
    "    --project=\"gcp-010-qa\" \\\n",
    "    --display-name=\"Service Account For Data Team\" \\\n",
    "    --description=\"Service Account For Data Team\""
   ]
  },
  {
   "cell_type": "code",
   "execution_count": null,
   "metadata": {},
   "outputs": [],
   "source": [
    "# "
   ]
  }
 ],
 "metadata": {
  "kernelspec": {
   "display_name": ".venv",
   "language": "python",
   "name": "python3"
  },
  "language_info": {
   "codemirror_mode": {
    "name": "ipython",
    "version": 3
   },
   "file_extension": ".py",
   "mimetype": "text/x-python",
   "name": "python",
   "nbconvert_exporter": "python",
   "pygments_lexer": "ipython3",
   "version": "3.12.5"
  }
 },
 "nbformat": 4,
 "nbformat_minor": 2
}
