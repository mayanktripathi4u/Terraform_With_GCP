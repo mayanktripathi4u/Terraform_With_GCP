{
 "cells": [
  {
   "cell_type": "markdown",
   "metadata": {},
   "source": [
    "# Check Working Directory"
   ]
  },
  {
   "cell_type": "code",
   "execution_count": 5,
   "metadata": {},
   "outputs": [],
   "source": [
    "import os"
   ]
  },
  {
   "cell_type": "code",
   "execution_count": 11,
   "metadata": {},
   "outputs": [
    {
     "name": "stdout",
     "output_type": "stream",
     "text": [
      "Current Directory: /Users/tripathimachine/Desktop/Apps/GitHub_Repo/Terraform_With_GCP\n"
     ]
    }
   ],
   "source": [
    "# Check current working directory\n",
    "print(\"Current Directory:\", os.getcwd())"
   ]
  },
  {
   "cell_type": "code",
   "execution_count": 8,
   "metadata": {},
   "outputs": [
    {
     "name": "stdout",
     "output_type": "stream",
     "text": [
      "New Directory: /Users/tripathimachine/Desktop/Apps/GitHub_Repo/Terraform_With_GCP\n"
     ]
    }
   ],
   "source": [
    "# Change directory\n",
    "os.chdir('..')\n",
    "\n",
    "# Verify the change\n",
    "print(\"New Directory:\", os.getcwd())"
   ]
  },
  {
   "cell_type": "code",
   "execution_count": 9,
   "metadata": {},
   "outputs": [
    {
     "name": "stdout",
     "output_type": "stream",
     "text": [
      "total 0\n",
      "drwxr-xr-x@ 10 tripathimachine  staff  320 Oct  1 18:23 \u001b[34mLAB-01\u001b[m\u001b[m\n",
      "drwxr-xr-x@ 14 tripathimachine  staff  448 Oct  1 22:59 \u001b[34mGCP_IAM\u001b[m\u001b[m\n",
      "drwxr-xr-x@  5 tripathimachine  staff  160 Oct  2 22:19 \u001b[34mTerraformModules\u001b[m\u001b[m\n",
      "drwxr-xr-x@  7 tripathimachine  staff  224 Oct  7 15:25 \u001b[34mProject-1\u001b[m\u001b[m\n"
     ]
    }
   ],
   "source": [
    "!ls -lrt"
   ]
  },
  {
   "cell_type": "markdown",
   "metadata": {},
   "source": [
    "# Check the Workspace List"
   ]
  },
  {
   "cell_type": "code",
   "execution_count": 28,
   "metadata": {},
   "outputs": [
    {
     "name": "stdout",
     "output_type": "stream",
     "text": [
      "  default\n",
      "* gcphde-prim-dev-data\n",
      "\n"
     ]
    }
   ],
   "source": [
    "!terraform workspace list"
   ]
  },
  {
   "cell_type": "code",
   "execution_count": 16,
   "metadata": {},
   "outputs": [
    {
     "name": "stdout",
     "output_type": "stream",
     "text": [
      "Terraform v1.7.3\n",
      "on darwin_arm64\n",
      "\n",
      "Your version of Terraform is out of date! The latest version\n",
      "is 1.9.7. You can update by downloading from https://www.terraform.io/downloads.html\n"
     ]
    }
   ],
   "source": [
    "!terraform -version"
   ]
  },
  {
   "cell_type": "markdown",
   "metadata": {},
   "source": [
    "**Initialize Terraform**\n",
    "\n",
    "Run the following command to initialize the working directory:"
   ]
  },
  {
   "cell_type": "code",
   "execution_count": null,
   "metadata": {},
   "outputs": [],
   "source": [
    "!terraform init"
   ]
  },
  {
   "cell_type": "markdown",
   "metadata": {},
   "source": [
    "**Create and Switch Workspaces**\n",
    "\n",
    "Create a new workspace (e.g., dev):"
   ]
  },
  {
   "cell_type": "code",
   "execution_count": 27,
   "metadata": {},
   "outputs": [
    {
     "name": "stdout",
     "output_type": "stream",
     "text": [
      "\u001b[0m\u001b[32m\u001b[1mCreated and switched to workspace \"gcphde-prim-dev-data\"!\u001b[0m\u001b[32m\n",
      "\n",
      "You're now on a new, empty workspace. Workspaces isolate their state,\n",
      "so if you run \"terraform plan\" Terraform will not see any existing state\n",
      "for this configuration.\u001b[0m\n"
     ]
    }
   ],
   "source": [
    "!terraform workspace new gcphde-prim-dev-data"
   ]
  },
  {
   "cell_type": "markdown",
   "metadata": {},
   "source": [
    "Switch to the newly created workspace:"
   ]
  },
  {
   "cell_type": "code",
   "execution_count": 18,
   "metadata": {},
   "outputs": [
    {
     "name": "stdout",
     "output_type": "stream",
     "text": [
      "\u001b[0m\u001b[32mSwitched to workspace \"gcphde-prim-dev-data\".\u001b[0m\n"
     ]
    }
   ],
   "source": [
    "!terraform workspace select gcphde-prim-dev-data "
   ]
  },
  {
   "cell_type": "markdown",
   "metadata": {},
   "source": [
    "Verify the current workspace:"
   ]
  },
  {
   "cell_type": "code",
   "execution_count": 36,
   "metadata": {},
   "outputs": [
    {
     "name": "stdout",
     "output_type": "stream",
     "text": [
      "gcphde-prim-dev-data\n"
     ]
    }
   ],
   "source": [
    "!terraform workspace show"
   ]
  },
  {
   "cell_type": "markdown",
   "metadata": {},
   "source": [
    "Delete TF WOrkspaces: You cannot delete the workspace you are currently in. Switch to another workspace (e.g., default or any other existing workspace):\n",
    "\n",
    "`terraform workspace select default`\n",
    "\n",
    "`terraform workspace delete gcphde-prim-dev-data`\n",
    "\n",
    "`terraform workspace delete gcphde-prim-synth-data`\n",
    "\n",
    "`terraform workspace delete gcphde-prim-stage-data`\n",
    "\n",
    "`terraform workspace delete gcphde-prim-prod-data`"
   ]
  },
  {
   "cell_type": "markdown",
   "metadata": {},
   "source": [
    "# Run the TF Plan.\n",
    "\n",
    "Make sure you are in the respective directory where the main.tf exists."
   ]
  },
  {
   "cell_type": "code",
   "execution_count": 23,
   "metadata": {},
   "outputs": [
    {
     "name": "stdout",
     "output_type": "stream",
     "text": [
      "New Directory: /Users/tripathimachine/Desktop/Apps/GitHub_Repo/Terraform_With_GCP/Project-1/infra/data\n",
      "List Files : ['terraform.tfstate.backup', 'terraform.tfstate', 'locals_iam_group_bindings.tf', 'main.tf', 'tfvars', '.terraform', 'iam_group_binding.tf', 'configs', 'variables.tf', 'source_code', 'provider.tf', '.terraform.lock.hcl']\n"
     ]
    }
   ],
   "source": [
    "my_tf_working_dir = f'/Users/tripathimachine/Desktop/Apps/GitHub_Repo/Terraform_With_GCP/Project-1/infra/data'\n",
    "# Change directory\n",
    "os.chdir(my_tf_working_dir)\n",
    "\n",
    "# Verify the change\n",
    "print(\"New Directory:\", os.getcwd())\n",
    "\n",
    "# List the Files\n",
    "print(\"List Files :\", os.listdir())"
   ]
  },
  {
   "cell_type": "code",
   "execution_count": 24,
   "metadata": {},
   "outputs": [
    {
     "name": "stdout",
     "output_type": "stream",
     "text": [
      "usage: tf_plan_local.py [-h] -e ENV -i INSTANCE -w WORKSPACE\n",
      "tf_plan_local.py: error: the following arguments are required: -e/--env, -i/--instance, -w/--workspace\n"
     ]
    }
   ],
   "source": [
    "# !python /Users/tripathimachine/Desktop/Apps/GitHub_Repo/Terraform_With_GCP/Project-1/Scripts/Deploy_Scripts/tf_plan_local.py "
   ]
  },
  {
   "cell_type": "code",
   "execution_count": 70,
   "metadata": {},
   "outputs": [
    {
     "name": "stdout",
     "output_type": "stream",
     "text": [
      "var file: tfvars/dev_prim.tfvars\n",
      "Running COmmand: terraform workspace show\n",
      "gcphde-prim-dev-data\n",
      "\n",
      "Current Workspace : gcphde-prim-dev-data\n",
      "Already in the correct workspace : gcphde-prim-dev-data\n",
      "Running COmmand: terraform init\n",
      "\n",
      "\u001b[0m\u001b[1mInitializing the backend...\u001b[0m\n",
      "\u001b[0m\u001b[1mInitializing modules...\u001b[0m\n",
      "\n",
      "\u001b[0m\u001b[1mInitializing provider plugins...\u001b[0m\n",
      "- Reusing previous version of hashicorp/google from the dependency lock file\n",
      "- Using previously-installed hashicorp/google v6.5.0\n",
      "\n",
      "\u001b[0m\u001b[1m\u001b[32mTerraform has been successfully initialized!\u001b[0m\u001b[32m\u001b[0m\n",
      "\u001b[0m\u001b[32m\n",
      "You may now begin working with Terraform. Try running \"terraform plan\" to see\n",
      "any changes that are required for your infrastructure. All Terraform commands\n",
      "should now work.\n",
      "\n",
      "If you ever set or change modules or backend configuration for Terraform,\n",
      "rerun this command to reinitialize your working directory. If you forget, other\n",
      "commands will detect it and remind you to do so if necessary.\u001b[0m\n",
      "\n",
      "Running COmmand: terraform fmt\n",
      "\n",
      "Running COmmand: terraform validate\n",
      "\u001b[32m\u001b[1mSuccess!\u001b[0m The configuration is valid.\n",
      "\u001b[0m\n",
      "\n",
      "Running COmmand: terraform plan -var-file tfvars/dev_prim.tfvars -out tfplan\n",
      "\n",
      "Terraform used the selected providers to generate the following execution\n",
      "plan. Resource actions are indicated with the following symbols:\n",
      "  \u001b[32m+\u001b[0m create\u001b[0m\n",
      "\n",
      "Terraform will perform the following actions:\n",
      "\n",
      "\u001b[1m  # module.iam_bindings[\"gcphde-prim-dev-data\"].google_project_iam_member.additive[\"default--roles/bigquery.dataEditor--serviceAccount:sa-data-team-specific@gcphde-prim-dev-data.iam.gserviceaccount.com\"]\u001b[0m will be created\n",
      "\u001b[0m  \u001b[32m+\u001b[0m\u001b[0m resource \"google_project_iam_member\" \"additive\" {\n",
      "      \u001b[32m+\u001b[0m\u001b[0m etag    = (known after apply)\n",
      "      \u001b[32m+\u001b[0m\u001b[0m id      = (known after apply)\n",
      "      \u001b[32m+\u001b[0m\u001b[0m member  = \"serviceAccount:sa-data-team-specific@gcphde-prim-dev-data.iam.gserviceaccount.com\"\n",
      "      \u001b[32m+\u001b[0m\u001b[0m project = \"gcphde-prim-dev-data\"\n",
      "      \u001b[32m+\u001b[0m\u001b[0m role    = \"roles/bigquery.dataEditor\"\n",
      "    }\n",
      "\n",
      "\u001b[1m  # module.iam_bindings[\"gcphde-prim-dev-data\"].google_project_iam_member.additive[\"default--roles/bigquery.dataEditor--serviceAccount:sa-schedule-runner@gcphde-prim-dev-data.iam.gserviceaccount.com\"]\u001b[0m will be created\n",
      "\u001b[0m  \u001b[32m+\u001b[0m\u001b[0m resource \"google_project_iam_member\" \"additive\" {\n",
      "      \u001b[32m+\u001b[0m\u001b[0m etag    = (known after apply)\n",
      "      \u001b[32m+\u001b[0m\u001b[0m id      = (known after apply)\n",
      "      \u001b[32m+\u001b[0m\u001b[0m member  = \"serviceAccount:sa-schedule-runner@gcphde-prim-dev-data.iam.gserviceaccount.com\"\n",
      "      \u001b[32m+\u001b[0m\u001b[0m project = \"gcphde-prim-dev-data\"\n",
      "      \u001b[32m+\u001b[0m\u001b[0m role    = \"roles/bigquery.dataEditor\"\n",
      "    }\n",
      "\n",
      "\u001b[1m  # module.iam_bindings[\"gcphde-prim-dev-data\"].google_project_iam_member.additive[\"default--roles/bigquery.jobUser--serviceAccount:sa-data-team-specific@gcphde-prim-dev-data.iam.gserviceaccount.com\"]\u001b[0m will be created\n",
      "\u001b[0m  \u001b[32m+\u001b[0m\u001b[0m resource \"google_project_iam_member\" \"additive\" {\n",
      "      \u001b[32m+\u001b[0m\u001b[0m etag    = (known after apply)\n",
      "      \u001b[32m+\u001b[0m\u001b[0m id      = (known after apply)\n",
      "      \u001b[32m+\u001b[0m\u001b[0m member  = \"serviceAccount:sa-data-team-specific@gcphde-prim-dev-data.iam.gserviceaccount.com\"\n",
      "      \u001b[32m+\u001b[0m\u001b[0m project = \"gcphde-prim-dev-data\"\n",
      "      \u001b[32m+\u001b[0m\u001b[0m role    = \"roles/bigquery.jobUser\"\n",
      "    }\n",
      "\n",
      "\u001b[1m  # module.iam_bindings[\"gcphde-prim-dev-data\"].google_project_iam_member.additive[\"default--roles/bigquery.user--serviceAccount:sa-data-team-specific@gcphde-prim-dev-data.iam.gserviceaccount.com\"]\u001b[0m will be created\n",
      "\u001b[0m  \u001b[32m+\u001b[0m\u001b[0m resource \"google_project_iam_member\" \"additive\" {\n",
      "      \u001b[32m+\u001b[0m\u001b[0m etag    = (known after apply)\n",
      "      \u001b[32m+\u001b[0m\u001b[0m id      = (known after apply)\n",
      "      \u001b[32m+\u001b[0m\u001b[0m member  = \"serviceAccount:sa-data-team-specific@gcphde-prim-dev-data.iam.gserviceaccount.com\"\n",
      "      \u001b[32m+\u001b[0m\u001b[0m project = \"gcphde-prim-dev-data\"\n",
      "      \u001b[32m+\u001b[0m\u001b[0m role    = \"roles/bigquery.user\"\n",
      "    }\n",
      "\n",
      "\u001b[1m  # module.iam_bindings[\"gcphde-prim-dev-data\"].google_project_iam_member.additive[\"default--roles/cloudfunctions.admin--serviceAccount:sa-data-team-specific@gcphde-prim-dev-data.iam.gserviceaccount.com\"]\u001b[0m will be created\n",
      "\u001b[0m  \u001b[32m+\u001b[0m\u001b[0m resource \"google_project_iam_member\" \"additive\" {\n",
      "      \u001b[32m+\u001b[0m\u001b[0m etag    = (known after apply)\n",
      "      \u001b[32m+\u001b[0m\u001b[0m id      = (known after apply)\n",
      "      \u001b[32m+\u001b[0m\u001b[0m member  = \"serviceAccount:sa-data-team-specific@gcphde-prim-dev-data.iam.gserviceaccount.com\"\n",
      "      \u001b[32m+\u001b[0m\u001b[0m project = \"gcphde-prim-dev-data\"\n",
      "      \u001b[32m+\u001b[0m\u001b[0m role    = \"roles/cloudfunctions.admin\"\n",
      "    }\n",
      "\n",
      "\u001b[1m  # module.iam_bindings[\"gcphde-prim-dev-data\"].google_project_iam_member.additive[\"default--roles/cloudfunctions.admin--serviceAccount:sa-pubsub-dataflow@gcphde-prim-dev-data.iam.gserviceaccount.com\"]\u001b[0m will be created\n",
      "\u001b[0m  \u001b[32m+\u001b[0m\u001b[0m resource \"google_project_iam_member\" \"additive\" {\n",
      "      \u001b[32m+\u001b[0m\u001b[0m etag    = (known after apply)\n",
      "      \u001b[32m+\u001b[0m\u001b[0m id      = (known after apply)\n",
      "      \u001b[32m+\u001b[0m\u001b[0m member  = \"serviceAccount:sa-pubsub-dataflow@gcphde-prim-dev-data.iam.gserviceaccount.com\"\n",
      "      \u001b[32m+\u001b[0m\u001b[0m project = \"gcphde-prim-dev-data\"\n",
      "      \u001b[32m+\u001b[0m\u001b[0m role    = \"roles/cloudfunctions.admin\"\n",
      "    }\n",
      "\n",
      "\u001b[1m  # module.iam_bindings[\"gcphde-prim-dev-data\"].google_project_iam_member.additive[\"default--roles/cloudfunctions.admin--serviceAccount:sa-schedule-runner@gcphde-prim-dev-data.iam.gserviceaccount.com\"]\u001b[0m will be created\n",
      "\u001b[0m  \u001b[32m+\u001b[0m\u001b[0m resource \"google_project_iam_member\" \"additive\" {\n",
      "      \u001b[32m+\u001b[0m\u001b[0m etag    = (known after apply)\n",
      "      \u001b[32m+\u001b[0m\u001b[0m id      = (known after apply)\n",
      "      \u001b[32m+\u001b[0m\u001b[0m member  = \"serviceAccount:sa-schedule-runner@gcphde-prim-dev-data.iam.gserviceaccount.com\"\n",
      "      \u001b[32m+\u001b[0m\u001b[0m project = \"gcphde-prim-dev-data\"\n",
      "      \u001b[32m+\u001b[0m\u001b[0m role    = \"roles/cloudfunctions.admin\"\n",
      "    }\n",
      "\n",
      "\u001b[1m  # module.iam_bindings[\"gcphde-prim-dev-data\"].google_project_iam_member.additive[\"default--roles/cloudfunctions.viewer--serviceAccount:sa-function-runner@gcphde-prim-dev-data.iam.gserviceaccount.com\"]\u001b[0m will be created\n",
      "\u001b[0m  \u001b[32m+\u001b[0m\u001b[0m resource \"google_project_iam_member\" \"additive\" {\n",
      "      \u001b[32m+\u001b[0m\u001b[0m etag    = (known after apply)\n",
      "      \u001b[32m+\u001b[0m\u001b[0m id      = (known after apply)\n",
      "      \u001b[32m+\u001b[0m\u001b[0m member  = \"serviceAccount:sa-function-runner@gcphde-prim-dev-data.iam.gserviceaccount.com\"\n",
      "      \u001b[32m+\u001b[0m\u001b[0m project = \"gcphde-prim-dev-data\"\n",
      "      \u001b[32m+\u001b[0m\u001b[0m role    = \"roles/cloudfunctions.viewer\"\n",
      "    }\n",
      "\n",
      "\u001b[1m  # module.iam_bindings[\"gcphde-prim-dev-data\"].google_project_iam_member.additive[\"default--roles/dataflow.developer--serviceAccount:sa-data-team-specific@gcphde-prim-dev-data.iam.gserviceaccount.com\"]\u001b[0m will be created\n",
      "\u001b[0m  \u001b[32m+\u001b[0m\u001b[0m resource \"google_project_iam_member\" \"additive\" {\n",
      "      \u001b[32m+\u001b[0m\u001b[0m etag    = (known after apply)\n",
      "      \u001b[32m+\u001b[0m\u001b[0m id      = (known after apply)\n",
      "      \u001b[32m+\u001b[0m\u001b[0m member  = \"serviceAccount:sa-data-team-specific@gcphde-prim-dev-data.iam.gserviceaccount.com\"\n",
      "      \u001b[32m+\u001b[0m\u001b[0m project = \"gcphde-prim-dev-data\"\n",
      "      \u001b[32m+\u001b[0m\u001b[0m role    = \"roles/dataflow.developer\"\n",
      "    }\n",
      "\n",
      "\u001b[1m  # module.iam_bindings[\"gcphde-prim-dev-data\"].google_project_iam_member.additive[\"default--roles/dataflow.developer--serviceAccount:sa-function-runner@gcphde-prim-dev-data.iam.gserviceaccount.com\"]\u001b[0m will be created\n",
      "\u001b[0m  \u001b[32m+\u001b[0m\u001b[0m resource \"google_project_iam_member\" \"additive\" {\n",
      "      \u001b[32m+\u001b[0m\u001b[0m etag    = (known after apply)\n",
      "      \u001b[32m+\u001b[0m\u001b[0m id      = (known after apply)\n",
      "      \u001b[32m+\u001b[0m\u001b[0m member  = \"serviceAccount:sa-function-runner@gcphde-prim-dev-data.iam.gserviceaccount.com\"\n",
      "      \u001b[32m+\u001b[0m\u001b[0m project = \"gcphde-prim-dev-data\"\n",
      "      \u001b[32m+\u001b[0m\u001b[0m role    = \"roles/dataflow.developer\"\n",
      "    }\n",
      "\n",
      "\u001b[1m  # module.iam_bindings[\"gcphde-prim-dev-data\"].google_project_iam_member.additive[\"default--roles/dataflow.developer--serviceAccount:sa-pubsub-dataflow@gcphde-prim-dev-data.iam.gserviceaccount.com\"]\u001b[0m will be created\n",
      "\u001b[0m  \u001b[32m+\u001b[0m\u001b[0m resource \"google_project_iam_member\" \"additive\" {\n",
      "      \u001b[32m+\u001b[0m\u001b[0m etag    = (known after apply)\n",
      "      \u001b[32m+\u001b[0m\u001b[0m id      = (known after apply)\n",
      "      \u001b[32m+\u001b[0m\u001b[0m member  = \"serviceAccount:sa-pubsub-dataflow@gcphde-prim-dev-data.iam.gserviceaccount.com\"\n",
      "      \u001b[32m+\u001b[0m\u001b[0m project = \"gcphde-prim-dev-data\"\n",
      "      \u001b[32m+\u001b[0m\u001b[0m role    = \"roles/dataflow.developer\"\n",
      "    }\n",
      "\n",
      "\u001b[1m  # module.iam_bindings[\"gcphde-prim-dev-data\"].google_project_iam_member.additive[\"default--roles/logging.viewer--serviceAccount:sa-function-runner@gcphde-prim-dev-data.iam.gserviceaccount.com\"]\u001b[0m will be created\n",
      "\u001b[0m  \u001b[32m+\u001b[0m\u001b[0m resource \"google_project_iam_member\" \"additive\" {\n",
      "      \u001b[32m+\u001b[0m\u001b[0m etag    = (known after apply)\n",
      "      \u001b[32m+\u001b[0m\u001b[0m id      = (known after apply)\n",
      "      \u001b[32m+\u001b[0m\u001b[0m member  = \"serviceAccount:sa-function-runner@gcphde-prim-dev-data.iam.gserviceaccount.com\"\n",
      "      \u001b[32m+\u001b[0m\u001b[0m project = \"gcphde-prim-dev-data\"\n",
      "      \u001b[32m+\u001b[0m\u001b[0m role    = \"roles/logging.viewer\"\n",
      "    }\n",
      "\n",
      "\u001b[1m  # module.iam_bindings[\"gcphde-prim-dev-data\"].google_project_iam_member.additive[\"default--roles/storage.admin--serviceAccount:sa-data-team-specific@gcphde-prim-dev-data.iam.gserviceaccount.com\"]\u001b[0m will be created\n",
      "\u001b[0m  \u001b[32m+\u001b[0m\u001b[0m resource \"google_project_iam_member\" \"additive\" {\n",
      "      \u001b[32m+\u001b[0m\u001b[0m etag    = (known after apply)\n",
      "      \u001b[32m+\u001b[0m\u001b[0m id      = (known after apply)\n",
      "      \u001b[32m+\u001b[0m\u001b[0m member  = \"serviceAccount:sa-data-team-specific@gcphde-prim-dev-data.iam.gserviceaccount.com\"\n",
      "      \u001b[32m+\u001b[0m\u001b[0m project = \"gcphde-prim-dev-data\"\n",
      "      \u001b[32m+\u001b[0m\u001b[0m role    = \"roles/storage.admin\"\n",
      "    }\n",
      "\n",
      "\u001b[1m  # module.iam_bindings[\"gcphde-prim-dev-data\"].google_project_iam_member.additive[\"default--roles/storage.admin--serviceAccount:sa-pubsub-dataflow@gcphde-prim-dev-data.iam.gserviceaccount.com\"]\u001b[0m will be created\n",
      "\u001b[0m  \u001b[32m+\u001b[0m\u001b[0m resource \"google_project_iam_member\" \"additive\" {\n",
      "      \u001b[32m+\u001b[0m\u001b[0m etag    = (known after apply)\n",
      "      \u001b[32m+\u001b[0m\u001b[0m id      = (known after apply)\n",
      "      \u001b[32m+\u001b[0m\u001b[0m member  = \"serviceAccount:sa-pubsub-dataflow@gcphde-prim-dev-data.iam.gserviceaccount.com\"\n",
      "      \u001b[32m+\u001b[0m\u001b[0m project = \"gcphde-prim-dev-data\"\n",
      "      \u001b[32m+\u001b[0m\u001b[0m role    = \"roles/storage.admin\"\n",
      "    }\n",
      "\n",
      "\u001b[1m  # module.iam_bindings[\"gcphde-prim-dev-data\"].google_project_iam_member.additive[\"default--roles/storage.objectAdmin--serviceAccount:sa-pubsub-dataflow@gcphde-prim-dev-data.iam.gserviceaccount.com\"]\u001b[0m will be created\n",
      "\u001b[0m  \u001b[32m+\u001b[0m\u001b[0m resource \"google_project_iam_member\" \"additive\" {\n",
      "      \u001b[32m+\u001b[0m\u001b[0m etag    = (known after apply)\n",
      "      \u001b[32m+\u001b[0m\u001b[0m id      = (known after apply)\n",
      "      \u001b[32m+\u001b[0m\u001b[0m member  = \"serviceAccount:sa-pubsub-dataflow@gcphde-prim-dev-data.iam.gserviceaccount.com\"\n",
      "      \u001b[32m+\u001b[0m\u001b[0m project = \"gcphde-prim-dev-data\"\n",
      "      \u001b[32m+\u001b[0m\u001b[0m role    = \"roles/storage.objectAdmin\"\n",
      "    }\n",
      "\n",
      "\u001b[1m  # module.iam_bindings_conditional[\"gcphde-prim-dev-data\"].google_project_iam_member.additive[\"default--roles/storage.objectAdmin--write_non_dataflow_buckets--serviceAccount:sa-data-team-specific@gcphde-prim-dev-data.iam.gserviceaccount.com\"]\u001b[0m will be created\n",
      "\u001b[0m  \u001b[32m+\u001b[0m\u001b[0m resource \"google_project_iam_member\" \"additive\" {\n",
      "      \u001b[32m+\u001b[0m\u001b[0m etag    = (known after apply)\n",
      "      \u001b[32m+\u001b[0m\u001b[0m id      = (known after apply)\n",
      "      \u001b[32m+\u001b[0m\u001b[0m member  = \"serviceAccount:sa-data-team-specific@gcphde-prim-dev-data.iam.gserviceaccount.com\"\n",
      "      \u001b[32m+\u001b[0m\u001b[0m project = \"gcphde-prim-dev-data\"\n",
      "      \u001b[32m+\u001b[0m\u001b[0m role    = \"roles/storage.objectAdmin\"\n",
      "\n",
      "      \u001b[32m+\u001b[0m\u001b[0m condition {\n",
      "          \u001b[32m+\u001b[0m\u001b[0m description = \"can have edit access on all buckets the dataflow ones\"\n",
      "          \u001b[32m+\u001b[0m\u001b[0m expression  = \"!resource.name.startsWith(\\\"projects/_/buckets/dataflow-\\\")\"\n",
      "          \u001b[32m+\u001b[0m\u001b[0m title       = \"write_non_dataflow_buckets\"\n",
      "        }\n",
      "    }\n",
      "\n",
      "\u001b[1m  # module.iam_bindings_conditional[\"gcphde-prim-dev-data\"].google_project_iam_member.additive[\"default--roles/storage.objectAdmin--write_non_dataflow_buckets--serviceAccount:sa-function-runner@gcphde-prim-dev-data.iam.gserviceaccount.com\"]\u001b[0m will be created\n",
      "\u001b[0m  \u001b[32m+\u001b[0m\u001b[0m resource \"google_project_iam_member\" \"additive\" {\n",
      "      \u001b[32m+\u001b[0m\u001b[0m etag    = (known after apply)\n",
      "      \u001b[32m+\u001b[0m\u001b[0m id      = (known after apply)\n",
      "      \u001b[32m+\u001b[0m\u001b[0m member  = \"serviceAccount:sa-function-runner@gcphde-prim-dev-data.iam.gserviceaccount.com\"\n",
      "      \u001b[32m+\u001b[0m\u001b[0m project = \"gcphde-prim-dev-data\"\n",
      "      \u001b[32m+\u001b[0m\u001b[0m role    = \"roles/storage.objectAdmin\"\n",
      "\n",
      "      \u001b[32m+\u001b[0m\u001b[0m condition {\n",
      "          \u001b[32m+\u001b[0m\u001b[0m description = \"can have edit access on all buckets the dataflow ones\"\n",
      "          \u001b[32m+\u001b[0m\u001b[0m expression  = \"!resource.name.startsWith(\\\"projects/_/buckets/dataflow-\\\")\"\n",
      "          \u001b[32m+\u001b[0m\u001b[0m title       = \"write_non_dataflow_buckets\"\n",
      "        }\n",
      "    }\n",
      "\n",
      "\u001b[1m  # module.iam_bindings_conditional[\"gcphde-prim-dev-data\"].google_project_iam_member.additive[\"default--roles/storage.objectViewer--read_non_dataflow_buckets--serviceAccount:sa-data-team-specific@gcphde-prim-dev-data.iam.gserviceaccount.com\"]\u001b[0m will be created\n",
      "\u001b[0m  \u001b[32m+\u001b[0m\u001b[0m resource \"google_project_iam_member\" \"additive\" {\n",
      "      \u001b[32m+\u001b[0m\u001b[0m etag    = (known after apply)\n",
      "      \u001b[32m+\u001b[0m\u001b[0m id      = (known after apply)\n",
      "      \u001b[32m+\u001b[0m\u001b[0m member  = \"serviceAccount:sa-data-team-specific@gcphde-prim-dev-data.iam.gserviceaccount.com\"\n",
      "      \u001b[32m+\u001b[0m\u001b[0m project = \"gcphde-prim-dev-data\"\n",
      "      \u001b[32m+\u001b[0m\u001b[0m role    = \"roles/storage.objectViewer\"\n",
      "\n",
      "      \u001b[32m+\u001b[0m\u001b[0m condition {\n",
      "          \u001b[32m+\u001b[0m\u001b[0m description = \"can have read access on all buckets the dataflow ones\"\n",
      "          \u001b[32m+\u001b[0m\u001b[0m expression  = \"!resource.name.startsWith(\\\"projects/_/buckets/dataflow-\\\")\"\n",
      "          \u001b[32m+\u001b[0m\u001b[0m title       = \"read_non_dataflow_buckets\"\n",
      "        }\n",
      "    }\n",
      "\n",
      "\u001b[1m  # module.iam_bindings_conditional[\"gcphde-prim-dev-data\"].google_project_iam_member.additive[\"default--roles/storage.objectViewer--read_non_dataflow_buckets--serviceAccount:sa-function-runner@gcphde-prim-dev-data.iam.gserviceaccount.com\"]\u001b[0m will be created\n",
      "\u001b[0m  \u001b[32m+\u001b[0m\u001b[0m resource \"google_project_iam_member\" \"additive\" {\n",
      "      \u001b[32m+\u001b[0m\u001b[0m etag    = (known after apply)\n",
      "      \u001b[32m+\u001b[0m\u001b[0m id      = (known after apply)\n",
      "      \u001b[32m+\u001b[0m\u001b[0m member  = \"serviceAccount:sa-function-runner@gcphde-prim-dev-data.iam.gserviceaccount.com\"\n",
      "      \u001b[32m+\u001b[0m\u001b[0m project = \"gcphde-prim-dev-data\"\n",
      "      \u001b[32m+\u001b[0m\u001b[0m role    = \"roles/storage.objectViewer\"\n",
      "\n",
      "      \u001b[32m+\u001b[0m\u001b[0m condition {\n",
      "          \u001b[32m+\u001b[0m\u001b[0m description = \"can have read access on all buckets the dataflow ones\"\n",
      "          \u001b[32m+\u001b[0m\u001b[0m expression  = \"!resource.name.startsWith(\\\"projects/_/buckets/dataflow-\\\")\"\n",
      "          \u001b[32m+\u001b[0m\u001b[0m title       = \"read_non_dataflow_buckets\"\n",
      "        }\n",
      "    }\n",
      "\n",
      "\u001b[1mPlan:\u001b[0m 19 to add, 0 to change, 0 to destroy.\n",
      "\u001b[0m\n",
      "Changes to Outputs:\n",
      "  \u001b[32m+\u001b[0m\u001b[0m file_name     = \"dev_prim_iam_group_bindings.yaml\"\n",
      "  \u001b[32m+\u001b[0m\u001b[0m print_project = \"gcphde-prim-dev-data\"\n",
      "\u001b[33m╷\u001b[0m\u001b[0m\n",
      "\u001b[33m│\u001b[0m \u001b[0m\u001b[1m\u001b[33mWarning: \u001b[0m\u001b[0m\u001b[1mValue for undeclared variable\u001b[0m\n",
      "\u001b[33m│\u001b[0m \u001b[0m\n",
      "\u001b[33m│\u001b[0m \u001b[0m\u001b[0mThe root module does not declare a variable named \"workspace_id\" but a\n",
      "\u001b[33m│\u001b[0m \u001b[0mvalue was found in file \"tfvars/dev_prim.tfvars\". If you meant to use this\n",
      "\u001b[33m│\u001b[0m \u001b[0mvalue, add a \"variable\" block to the configuration.\n",
      "\u001b[33m│\u001b[0m \u001b[0m\n",
      "\u001b[33m│\u001b[0m \u001b[0mTo silence these warnings, use TF_VAR_... environment variables to provide\n",
      "\u001b[33m│\u001b[0m \u001b[0mcertain \"global\" settings to all configurations in your organization. To\n",
      "\u001b[33m│\u001b[0m \u001b[0mreduce the verbosity of these warnings, use the -compact-warnings option.\n",
      "\u001b[33m╵\u001b[0m\u001b[0m\n",
      "\u001b[90m\n",
      "─────────────────────────────────────────────────────────────────────────────\u001b[0m\n",
      "\n",
      "Saved the plan to: tfplan\n",
      "\n",
      "To perform exactly these actions, run the following command to apply:\n",
      "    terraform apply \"tfplan\"\n",
      "\n",
      "Terraform Plan was created successfully. Fetching Plan ....\n",
      "Running COmmand: terraform show tfplan\n",
      "\n",
      "Terraform used the selected providers to generate the following execution\n",
      "plan. Resource actions are indicated with the following symbols:\n",
      "  \u001b[32m+\u001b[0m create\u001b[0m\n",
      "\n",
      "Terraform will perform the following actions:\n",
      "\n",
      "\u001b[1m  # module.iam_bindings[\"gcphde-prim-dev-data\"].google_project_iam_member.additive[\"default--roles/bigquery.dataEditor--serviceAccount:sa-data-team-specific@gcphde-prim-dev-data.iam.gserviceaccount.com\"]\u001b[0m will be created\n",
      "\u001b[0m  \u001b[32m+\u001b[0m\u001b[0m resource \"google_project_iam_member\" \"additive\" {\n",
      "      \u001b[32m+\u001b[0m\u001b[0m etag    = (known after apply)\n",
      "      \u001b[32m+\u001b[0m\u001b[0m id      = (known after apply)\n",
      "      \u001b[32m+\u001b[0m\u001b[0m member  = \"serviceAccount:sa-data-team-specific@gcphde-prim-dev-data.iam.gserviceaccount.com\"\n",
      "      \u001b[32m+\u001b[0m\u001b[0m project = \"gcphde-prim-dev-data\"\n",
      "      \u001b[32m+\u001b[0m\u001b[0m role    = \"roles/bigquery.dataEditor\"\n",
      "    }\n",
      "\n",
      "\u001b[1m  # module.iam_bindings[\"gcphde-prim-dev-data\"].google_project_iam_member.additive[\"default--roles/bigquery.dataEditor--serviceAccount:sa-schedule-runner@gcphde-prim-dev-data.iam.gserviceaccount.com\"]\u001b[0m will be created\n",
      "\u001b[0m  \u001b[32m+\u001b[0m\u001b[0m resource \"google_project_iam_member\" \"additive\" {\n",
      "      \u001b[32m+\u001b[0m\u001b[0m etag    = (known after apply)\n",
      "      \u001b[32m+\u001b[0m\u001b[0m id      = (known after apply)\n",
      "      \u001b[32m+\u001b[0m\u001b[0m member  = \"serviceAccount:sa-schedule-runner@gcphde-prim-dev-data.iam.gserviceaccount.com\"\n",
      "      \u001b[32m+\u001b[0m\u001b[0m project = \"gcphde-prim-dev-data\"\n",
      "      \u001b[32m+\u001b[0m\u001b[0m role    = \"roles/bigquery.dataEditor\"\n",
      "    }\n",
      "\n",
      "\u001b[1m  # module.iam_bindings[\"gcphde-prim-dev-data\"].google_project_iam_member.additive[\"default--roles/bigquery.jobUser--serviceAccount:sa-data-team-specific@gcphde-prim-dev-data.iam.gserviceaccount.com\"]\u001b[0m will be created\n",
      "\u001b[0m  \u001b[32m+\u001b[0m\u001b[0m resource \"google_project_iam_member\" \"additive\" {\n",
      "      \u001b[32m+\u001b[0m\u001b[0m etag    = (known after apply)\n",
      "      \u001b[32m+\u001b[0m\u001b[0m id      = (known after apply)\n",
      "      \u001b[32m+\u001b[0m\u001b[0m member  = \"serviceAccount:sa-data-team-specific@gcphde-prim-dev-data.iam.gserviceaccount.com\"\n",
      "      \u001b[32m+\u001b[0m\u001b[0m project = \"gcphde-prim-dev-data\"\n",
      "      \u001b[32m+\u001b[0m\u001b[0m role    = \"roles/bigquery.jobUser\"\n",
      "    }\n",
      "\n",
      "\u001b[1m  # module.iam_bindings[\"gcphde-prim-dev-data\"].google_project_iam_member.additive[\"default--roles/bigquery.user--serviceAccount:sa-data-team-specific@gcphde-prim-dev-data.iam.gserviceaccount.com\"]\u001b[0m will be created\n",
      "\u001b[0m  \u001b[32m+\u001b[0m\u001b[0m resource \"google_project_iam_member\" \"additive\" {\n",
      "      \u001b[32m+\u001b[0m\u001b[0m etag    = (known after apply)\n",
      "      \u001b[32m+\u001b[0m\u001b[0m id      = (known after apply)\n",
      "      \u001b[32m+\u001b[0m\u001b[0m member  = \"serviceAccount:sa-data-team-specific@gcphde-prim-dev-data.iam.gserviceaccount.com\"\n",
      "      \u001b[32m+\u001b[0m\u001b[0m project = \"gcphde-prim-dev-data\"\n",
      "      \u001b[32m+\u001b[0m\u001b[0m role    = \"roles/bigquery.user\"\n",
      "    }\n",
      "\n",
      "\u001b[1m  # module.iam_bindings[\"gcphde-prim-dev-data\"].google_project_iam_member.additive[\"default--roles/cloudfunctions.admin--serviceAccount:sa-data-team-specific@gcphde-prim-dev-data.iam.gserviceaccount.com\"]\u001b[0m will be created\n",
      "\u001b[0m  \u001b[32m+\u001b[0m\u001b[0m resource \"google_project_iam_member\" \"additive\" {\n",
      "      \u001b[32m+\u001b[0m\u001b[0m etag    = (known after apply)\n",
      "      \u001b[32m+\u001b[0m\u001b[0m id      = (known after apply)\n",
      "      \u001b[32m+\u001b[0m\u001b[0m member  = \"serviceAccount:sa-data-team-specific@gcphde-prim-dev-data.iam.gserviceaccount.com\"\n",
      "      \u001b[32m+\u001b[0m\u001b[0m project = \"gcphde-prim-dev-data\"\n",
      "      \u001b[32m+\u001b[0m\u001b[0m role    = \"roles/cloudfunctions.admin\"\n",
      "    }\n",
      "\n",
      "\u001b[1m  # module.iam_bindings[\"gcphde-prim-dev-data\"].google_project_iam_member.additive[\"default--roles/cloudfunctions.admin--serviceAccount:sa-pubsub-dataflow@gcphde-prim-dev-data.iam.gserviceaccount.com\"]\u001b[0m will be created\n",
      "\u001b[0m  \u001b[32m+\u001b[0m\u001b[0m resource \"google_project_iam_member\" \"additive\" {\n",
      "      \u001b[32m+\u001b[0m\u001b[0m etag    = (known after apply)\n",
      "      \u001b[32m+\u001b[0m\u001b[0m id      = (known after apply)\n",
      "      \u001b[32m+\u001b[0m\u001b[0m member  = \"serviceAccount:sa-pubsub-dataflow@gcphde-prim-dev-data.iam.gserviceaccount.com\"\n",
      "      \u001b[32m+\u001b[0m\u001b[0m project = \"gcphde-prim-dev-data\"\n",
      "      \u001b[32m+\u001b[0m\u001b[0m role    = \"roles/cloudfunctions.admin\"\n",
      "    }\n",
      "\n",
      "\u001b[1m  # module.iam_bindings[\"gcphde-prim-dev-data\"].google_project_iam_member.additive[\"default--roles/cloudfunctions.admin--serviceAccount:sa-schedule-runner@gcphde-prim-dev-data.iam.gserviceaccount.com\"]\u001b[0m will be created\n",
      "\u001b[0m  \u001b[32m+\u001b[0m\u001b[0m resource \"google_project_iam_member\" \"additive\" {\n",
      "      \u001b[32m+\u001b[0m\u001b[0m etag    = (known after apply)\n",
      "      \u001b[32m+\u001b[0m\u001b[0m id      = (known after apply)\n",
      "      \u001b[32m+\u001b[0m\u001b[0m member  = \"serviceAccount:sa-schedule-runner@gcphde-prim-dev-data.iam.gserviceaccount.com\"\n",
      "      \u001b[32m+\u001b[0m\u001b[0m project = \"gcphde-prim-dev-data\"\n",
      "      \u001b[32m+\u001b[0m\u001b[0m role    = \"roles/cloudfunctions.admin\"\n",
      "    }\n",
      "\n",
      "\u001b[1m  # module.iam_bindings[\"gcphde-prim-dev-data\"].google_project_iam_member.additive[\"default--roles/cloudfunctions.viewer--serviceAccount:sa-function-runner@gcphde-prim-dev-data.iam.gserviceaccount.com\"]\u001b[0m will be created\n",
      "\u001b[0m  \u001b[32m+\u001b[0m\u001b[0m resource \"google_project_iam_member\" \"additive\" {\n",
      "      \u001b[32m+\u001b[0m\u001b[0m etag    = (known after apply)\n",
      "      \u001b[32m+\u001b[0m\u001b[0m id      = (known after apply)\n",
      "      \u001b[32m+\u001b[0m\u001b[0m member  = \"serviceAccount:sa-function-runner@gcphde-prim-dev-data.iam.gserviceaccount.com\"\n",
      "      \u001b[32m+\u001b[0m\u001b[0m project = \"gcphde-prim-dev-data\"\n",
      "      \u001b[32m+\u001b[0m\u001b[0m role    = \"roles/cloudfunctions.viewer\"\n",
      "    }\n",
      "\n",
      "\u001b[1m  # module.iam_bindings[\"gcphde-prim-dev-data\"].google_project_iam_member.additive[\"default--roles/dataflow.developer--serviceAccount:sa-data-team-specific@gcphde-prim-dev-data.iam.gserviceaccount.com\"]\u001b[0m will be created\n",
      "\u001b[0m  \u001b[32m+\u001b[0m\u001b[0m resource \"google_project_iam_member\" \"additive\" {\n",
      "      \u001b[32m+\u001b[0m\u001b[0m etag    = (known after apply)\n",
      "      \u001b[32m+\u001b[0m\u001b[0m id      = (known after apply)\n",
      "      \u001b[32m+\u001b[0m\u001b[0m member  = \"serviceAccount:sa-data-team-specific@gcphde-prim-dev-data.iam.gserviceaccount.com\"\n",
      "      \u001b[32m+\u001b[0m\u001b[0m project = \"gcphde-prim-dev-data\"\n",
      "      \u001b[32m+\u001b[0m\u001b[0m role    = \"roles/dataflow.developer\"\n",
      "    }\n",
      "\n",
      "\u001b[1m  # module.iam_bindings[\"gcphde-prim-dev-data\"].google_project_iam_member.additive[\"default--roles/dataflow.developer--serviceAccount:sa-function-runner@gcphde-prim-dev-data.iam.gserviceaccount.com\"]\u001b[0m will be created\n",
      "\u001b[0m  \u001b[32m+\u001b[0m\u001b[0m resource \"google_project_iam_member\" \"additive\" {\n",
      "      \u001b[32m+\u001b[0m\u001b[0m etag    = (known after apply)\n",
      "      \u001b[32m+\u001b[0m\u001b[0m id      = (known after apply)\n",
      "      \u001b[32m+\u001b[0m\u001b[0m member  = \"serviceAccount:sa-function-runner@gcphde-prim-dev-data.iam.gserviceaccount.com\"\n",
      "      \u001b[32m+\u001b[0m\u001b[0m project = \"gcphde-prim-dev-data\"\n",
      "      \u001b[32m+\u001b[0m\u001b[0m role    = \"roles/dataflow.developer\"\n",
      "    }\n",
      "\n",
      "\u001b[1m  # module.iam_bindings[\"gcphde-prim-dev-data\"].google_project_iam_member.additive[\"default--roles/dataflow.developer--serviceAccount:sa-pubsub-dataflow@gcphde-prim-dev-data.iam.gserviceaccount.com\"]\u001b[0m will be created\n",
      "\u001b[0m  \u001b[32m+\u001b[0m\u001b[0m resource \"google_project_iam_member\" \"additive\" {\n",
      "      \u001b[32m+\u001b[0m\u001b[0m etag    = (known after apply)\n",
      "      \u001b[32m+\u001b[0m\u001b[0m id      = (known after apply)\n",
      "      \u001b[32m+\u001b[0m\u001b[0m member  = \"serviceAccount:sa-pubsub-dataflow@gcphde-prim-dev-data.iam.gserviceaccount.com\"\n",
      "      \u001b[32m+\u001b[0m\u001b[0m project = \"gcphde-prim-dev-data\"\n",
      "      \u001b[32m+\u001b[0m\u001b[0m role    = \"roles/dataflow.developer\"\n",
      "    }\n",
      "\n",
      "\u001b[1m  # module.iam_bindings[\"gcphde-prim-dev-data\"].google_project_iam_member.additive[\"default--roles/logging.viewer--serviceAccount:sa-function-runner@gcphde-prim-dev-data.iam.gserviceaccount.com\"]\u001b[0m will be created\n",
      "\u001b[0m  \u001b[32m+\u001b[0m\u001b[0m resource \"google_project_iam_member\" \"additive\" {\n",
      "      \u001b[32m+\u001b[0m\u001b[0m etag    = (known after apply)\n",
      "      \u001b[32m+\u001b[0m\u001b[0m id      = (known after apply)\n",
      "      \u001b[32m+\u001b[0m\u001b[0m member  = \"serviceAccount:sa-function-runner@gcphde-prim-dev-data.iam.gserviceaccount.com\"\n",
      "      \u001b[32m+\u001b[0m\u001b[0m project = \"gcphde-prim-dev-data\"\n",
      "      \u001b[32m+\u001b[0m\u001b[0m role    = \"roles/logging.viewer\"\n",
      "    }\n",
      "\n",
      "\u001b[1m  # module.iam_bindings[\"gcphde-prim-dev-data\"].google_project_iam_member.additive[\"default--roles/storage.admin--serviceAccount:sa-data-team-specific@gcphde-prim-dev-data.iam.gserviceaccount.com\"]\u001b[0m will be created\n",
      "\u001b[0m  \u001b[32m+\u001b[0m\u001b[0m resource \"google_project_iam_member\" \"additive\" {\n",
      "      \u001b[32m+\u001b[0m\u001b[0m etag    = (known after apply)\n",
      "      \u001b[32m+\u001b[0m\u001b[0m id      = (known after apply)\n",
      "      \u001b[32m+\u001b[0m\u001b[0m member  = \"serviceAccount:sa-data-team-specific@gcphde-prim-dev-data.iam.gserviceaccount.com\"\n",
      "      \u001b[32m+\u001b[0m\u001b[0m project = \"gcphde-prim-dev-data\"\n",
      "      \u001b[32m+\u001b[0m\u001b[0m role    = \"roles/storage.admin\"\n",
      "    }\n",
      "\n",
      "\u001b[1m  # module.iam_bindings[\"gcphde-prim-dev-data\"].google_project_iam_member.additive[\"default--roles/storage.admin--serviceAccount:sa-pubsub-dataflow@gcphde-prim-dev-data.iam.gserviceaccount.com\"]\u001b[0m will be created\n",
      "\u001b[0m  \u001b[32m+\u001b[0m\u001b[0m resource \"google_project_iam_member\" \"additive\" {\n",
      "      \u001b[32m+\u001b[0m\u001b[0m etag    = (known after apply)\n",
      "      \u001b[32m+\u001b[0m\u001b[0m id      = (known after apply)\n",
      "      \u001b[32m+\u001b[0m\u001b[0m member  = \"serviceAccount:sa-pubsub-dataflow@gcphde-prim-dev-data.iam.gserviceaccount.com\"\n",
      "      \u001b[32m+\u001b[0m\u001b[0m project = \"gcphde-prim-dev-data\"\n",
      "      \u001b[32m+\u001b[0m\u001b[0m role    = \"roles/storage.admin\"\n",
      "    }\n",
      "\n",
      "\u001b[1m  # module.iam_bindings[\"gcphde-prim-dev-data\"].google_project_iam_member.additive[\"default--roles/storage.objectAdmin--serviceAccount:sa-pubsub-dataflow@gcphde-prim-dev-data.iam.gserviceaccount.com\"]\u001b[0m will be created\n",
      "\u001b[0m  \u001b[32m+\u001b[0m\u001b[0m resource \"google_project_iam_member\" \"additive\" {\n",
      "      \u001b[32m+\u001b[0m\u001b[0m etag    = (known after apply)\n",
      "      \u001b[32m+\u001b[0m\u001b[0m id      = (known after apply)\n",
      "      \u001b[32m+\u001b[0m\u001b[0m member  = \"serviceAccount:sa-pubsub-dataflow@gcphde-prim-dev-data.iam.gserviceaccount.com\"\n",
      "      \u001b[32m+\u001b[0m\u001b[0m project = \"gcphde-prim-dev-data\"\n",
      "      \u001b[32m+\u001b[0m\u001b[0m role    = \"roles/storage.objectAdmin\"\n",
      "    }\n",
      "\n",
      "\u001b[1m  # module.iam_bindings_conditional[\"gcphde-prim-dev-data\"].google_project_iam_member.additive[\"default--roles/storage.objectAdmin--write_non_dataflow_buckets--serviceAccount:sa-data-team-specific@gcphde-prim-dev-data.iam.gserviceaccount.com\"]\u001b[0m will be created\n",
      "\u001b[0m  \u001b[32m+\u001b[0m\u001b[0m resource \"google_project_iam_member\" \"additive\" {\n",
      "      \u001b[32m+\u001b[0m\u001b[0m etag    = (known after apply)\n",
      "      \u001b[32m+\u001b[0m\u001b[0m id      = (known after apply)\n",
      "      \u001b[32m+\u001b[0m\u001b[0m member  = \"serviceAccount:sa-data-team-specific@gcphde-prim-dev-data.iam.gserviceaccount.com\"\n",
      "      \u001b[32m+\u001b[0m\u001b[0m project = \"gcphde-prim-dev-data\"\n",
      "      \u001b[32m+\u001b[0m\u001b[0m role    = \"roles/storage.objectAdmin\"\n",
      "\n",
      "      \u001b[32m+\u001b[0m\u001b[0m condition {\n",
      "          \u001b[32m+\u001b[0m\u001b[0m description = \"can have edit access on all buckets the dataflow ones\"\n",
      "          \u001b[32m+\u001b[0m\u001b[0m expression  = \"!resource.name.startsWith(\\\"projects/_/buckets/dataflow-\\\")\"\n",
      "          \u001b[32m+\u001b[0m\u001b[0m title       = \"write_non_dataflow_buckets\"\n",
      "        }\n",
      "    }\n",
      "\n",
      "\u001b[1m  # module.iam_bindings_conditional[\"gcphde-prim-dev-data\"].google_project_iam_member.additive[\"default--roles/storage.objectAdmin--write_non_dataflow_buckets--serviceAccount:sa-function-runner@gcphde-prim-dev-data.iam.gserviceaccount.com\"]\u001b[0m will be created\n",
      "\u001b[0m  \u001b[32m+\u001b[0m\u001b[0m resource \"google_project_iam_member\" \"additive\" {\n",
      "      \u001b[32m+\u001b[0m\u001b[0m etag    = (known after apply)\n",
      "      \u001b[32m+\u001b[0m\u001b[0m id      = (known after apply)\n",
      "      \u001b[32m+\u001b[0m\u001b[0m member  = \"serviceAccount:sa-function-runner@gcphde-prim-dev-data.iam.gserviceaccount.com\"\n",
      "      \u001b[32m+\u001b[0m\u001b[0m project = \"gcphde-prim-dev-data\"\n",
      "      \u001b[32m+\u001b[0m\u001b[0m role    = \"roles/storage.objectAdmin\"\n",
      "\n",
      "      \u001b[32m+\u001b[0m\u001b[0m condition {\n",
      "          \u001b[32m+\u001b[0m\u001b[0m description = \"can have edit access on all buckets the dataflow ones\"\n",
      "          \u001b[32m+\u001b[0m\u001b[0m expression  = \"!resource.name.startsWith(\\\"projects/_/buckets/dataflow-\\\")\"\n",
      "          \u001b[32m+\u001b[0m\u001b[0m title       = \"write_non_dataflow_buckets\"\n",
      "        }\n",
      "    }\n",
      "\n",
      "\u001b[1m  # module.iam_bindings_conditional[\"gcphde-prim-dev-data\"].google_project_iam_member.additive[\"default--roles/storage.objectViewer--read_non_dataflow_buckets--serviceAccount:sa-data-team-specific@gcphde-prim-dev-data.iam.gserviceaccount.com\"]\u001b[0m will be created\n",
      "\u001b[0m  \u001b[32m+\u001b[0m\u001b[0m resource \"google_project_iam_member\" \"additive\" {\n",
      "      \u001b[32m+\u001b[0m\u001b[0m etag    = (known after apply)\n",
      "      \u001b[32m+\u001b[0m\u001b[0m id      = (known after apply)\n",
      "      \u001b[32m+\u001b[0m\u001b[0m member  = \"serviceAccount:sa-data-team-specific@gcphde-prim-dev-data.iam.gserviceaccount.com\"\n",
      "      \u001b[32m+\u001b[0m\u001b[0m project = \"gcphde-prim-dev-data\"\n",
      "      \u001b[32m+\u001b[0m\u001b[0m role    = \"roles/storage.objectViewer\"\n",
      "\n",
      "      \u001b[32m+\u001b[0m\u001b[0m condition {\n",
      "          \u001b[32m+\u001b[0m\u001b[0m description = \"can have read access on all buckets the dataflow ones\"\n",
      "          \u001b[32m+\u001b[0m\u001b[0m expression  = \"!resource.name.startsWith(\\\"projects/_/buckets/dataflow-\\\")\"\n",
      "          \u001b[32m+\u001b[0m\u001b[0m title       = \"read_non_dataflow_buckets\"\n",
      "        }\n",
      "    }\n",
      "\n",
      "\u001b[1m  # module.iam_bindings_conditional[\"gcphde-prim-dev-data\"].google_project_iam_member.additive[\"default--roles/storage.objectViewer--read_non_dataflow_buckets--serviceAccount:sa-function-runner@gcphde-prim-dev-data.iam.gserviceaccount.com\"]\u001b[0m will be created\n",
      "\u001b[0m  \u001b[32m+\u001b[0m\u001b[0m resource \"google_project_iam_member\" \"additive\" {\n",
      "      \u001b[32m+\u001b[0m\u001b[0m etag    = (known after apply)\n",
      "      \u001b[32m+\u001b[0m\u001b[0m id      = (known after apply)\n",
      "      \u001b[32m+\u001b[0m\u001b[0m member  = \"serviceAccount:sa-function-runner@gcphde-prim-dev-data.iam.gserviceaccount.com\"\n",
      "      \u001b[32m+\u001b[0m\u001b[0m project = \"gcphde-prim-dev-data\"\n",
      "      \u001b[32m+\u001b[0m\u001b[0m role    = \"roles/storage.objectViewer\"\n",
      "\n",
      "      \u001b[32m+\u001b[0m\u001b[0m condition {\n",
      "          \u001b[32m+\u001b[0m\u001b[0m description = \"can have read access on all buckets the dataflow ones\"\n",
      "          \u001b[32m+\u001b[0m\u001b[0m expression  = \"!resource.name.startsWith(\\\"projects/_/buckets/dataflow-\\\")\"\n",
      "          \u001b[32m+\u001b[0m\u001b[0m title       = \"read_non_dataflow_buckets\"\n",
      "        }\n",
      "    }\n",
      "\n",
      "\u001b[1mPlan:\u001b[0m 19 to add, 0 to change, 0 to destroy.\n",
      "\u001b[0m\n",
      "Changes to Outputs:\n",
      "  \u001b[32m+\u001b[0m\u001b[0m file_name     = \"dev_prim_iam_group_bindings.yaml\"\n",
      "  \u001b[32m+\u001b[0m\u001b[0m print_project = \"gcphde-prim-dev-data\"\n",
      "\n"
     ]
    }
   ],
   "source": [
    "!python /Users/tripathimachine/Desktop/Apps/GitHub_Repo/Terraform_With_GCP/Project-1/Scripts/Deploy_Scripts/tf_plan_local.py -e 'dev' -i 'prim' -w 'data'"
   ]
  },
  {
   "cell_type": "code",
   "execution_count": 45,
   "metadata": {},
   "outputs": [],
   "source": [
    "# !terraform plan -var-file tfvars/dev_prim.tfvars "
   ]
  }
 ],
 "metadata": {
  "kernelspec": {
   "display_name": ".venv",
   "language": "python",
   "name": "python3"
  },
  "language_info": {
   "codemirror_mode": {
    "name": "ipython",
    "version": 3
   },
   "file_extension": ".py",
   "mimetype": "text/x-python",
   "name": "python",
   "nbconvert_exporter": "python",
   "pygments_lexer": "ipython3",
   "version": "3.12.5"
  }
 },
 "nbformat": 4,
 "nbformat_minor": 2
}
