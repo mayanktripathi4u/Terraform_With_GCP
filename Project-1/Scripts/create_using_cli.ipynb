{
 "cells": [
  {
   "cell_type": "markdown",
   "metadata": {},
   "source": [
    "# Check your Active Project"
   ]
  },
  {
   "cell_type": "code",
   "execution_count": 2,
   "metadata": {},
   "outputs": [
    {
     "name": "stdout",
     "output_type": "stream",
     "text": [
      "NAME                 IS_ACTIVE  ACCOUNT                      PROJECT                COMPUTE_DEFAULT_ZONE  COMPUTE_DEFAULT_REGION\n",
      "awsgmail-budgetdata  False      awsmayanktripathi@gmail.com  budgetdatabase-395201\n",
      "awsmt-budget-prj     True       awsmayanktripathi@gmail.com  budgetdatabase-395201\n",
      "default              False      awsmayanktripathi@gmail.com  budgetdatabase-395201  us-central1-a         us-central1\n",
      "gcpemail-myproject   False      gcpmayanktripathi@gmail.com  proud-climber-421817\n"
     ]
    }
   ],
   "source": [
    "!gcloud config configurations list"
   ]
  },
  {
   "cell_type": "code",
   "execution_count": 1,
   "metadata": {},
   "outputs": [
    {
     "name": "stdout",
     "output_type": "stream",
     "text": [
      "[core]\n",
      "account = awsmayanktripathi@gmail.com\n",
      "disable_usage_reporting = True\n",
      "project = budgetdatabase-395201\n",
      "[metrics]\n",
      "environment = cloudcode.vscode\n",
      "environment_version = 2.18.1\n",
      "\n",
      "Your active configuration is: [awsmt-budget-prj]\n"
     ]
    }
   ],
   "source": [
    "!gcloud config list"
   ]
  },
  {
   "cell_type": "markdown",
   "metadata": {},
   "source": [
    "# Create a GCP Project"
   ]
  },
  {
   "cell_type": "code",
   "execution_count": 3,
   "metadata": {},
   "outputs": [],
   "source": [
    "!gcloud projects create gcphde-prim-dev-data --name=\"GCP Instance 010 Dev Env\""
   ]
  },
  {
   "cell_type": "code",
   "execution_count": 4,
   "metadata": {},
   "outputs": [
    {
     "name": "stdout",
     "output_type": "stream",
     "text": [
      "Create in progress for [https://cloudresourcemanager.googleapis.com/v1/projects/gcphde-prim-prod-data].\n",
      "Waiting for [operations/cp.4757421213459355886] to finish...done.              \n",
      "Enabling service [cloudapis.googleapis.com] on project [gcphde-prim-prod-data]...\n",
      "Operation \"operations/acat.p2-1045196891577-2200f0a8-2b1e-4e1a-ab96-97a6ae482769\" finished successfully.\n"
     ]
    }
   ],
   "source": [
    "!gcloud projects create gcphde-prim-synth-data --name=\"GCP Instance 010 QA Env\"\n",
    "\n",
    "!gcloud projects create gcphde-prim-stage-data --name=\"GCP Instance 010 Stage Env\"\n",
    "\n",
    "!gcloud projects create gcphde-prim-prod-data --name=\"GCP Instance 010 Prod Env\""
   ]
  },
  {
   "cell_type": "markdown",
   "metadata": {},
   "source": [
    "# Create Service Account"
   ]
  },
  {
   "cell_type": "code",
   "execution_count": 5,
   "metadata": {},
   "outputs": [
    {
     "name": "stdout",
     "output_type": "stream",
     "text": [
      "Created service account [sa-function-runner].\n"
     ]
    }
   ],
   "source": [
    "!gcloud iam service-accounts \\\n",
    "    create sa-function-runner \\\n",
    "    --project=\"gcphde-prim-dev-data\" \\\n",
    "    --display-name=\"Service Account For Function Runner\" \\\n",
    "    --description=\"Service Account For Function Runner\""
   ]
  },
  {
   "cell_type": "code",
   "execution_count": 6,
   "metadata": {},
   "outputs": [
    {
     "name": "stdout",
     "output_type": "stream",
     "text": [
      "Created service account [sa-schedule-runner].\n",
      "Created service account [sa-pubsub-dataflow].\n",
      "Created service account [sa-data-team-specific].\n"
     ]
    }
   ],
   "source": [
    "!gcloud iam service-accounts \\\n",
    "    create sa-schedule-runner \\\n",
    "    --project=\"gcphde-prim-dev-data\" \\\n",
    "    --display-name=\"Service Account For Schedule Runner\" \\\n",
    "    --description=\"Service Account For Schedule Runner\"\n",
    "\n",
    "!gcloud iam service-accounts \\\n",
    "    create sa-pubsub-dataflow \\\n",
    "    --project=\"gcphde-prim-dev-data\" \\\n",
    "    --display-name=\"Service Account For Pub/Sub and Dataflow\" \\\n",
    "    --description=\"Service Account For Pub/Sub and Dataflow\"\n",
    "\n",
    "!gcloud iam service-accounts \\\n",
    "    create sa-data-team-specific \\\n",
    "    --project=\"gcphde-prim-dev-data\" \\\n",
    "    --display-name=\"Service Account For Data Team\" \\\n",
    "    --description=\"Service Account For Data Team\""
   ]
  },
  {
   "cell_type": "code",
   "execution_count": 7,
   "metadata": {},
   "outputs": [
    {
     "name": "stdout",
     "output_type": "stream",
     "text": [
      "Created service account [sa-function-runner].\n",
      "Created service account [sa-schedule-runner].\n",
      "Created service account [sa-pubsub-dataflow].\n",
      "Created service account [sa-data-team-specific].\n"
     ]
    }
   ],
   "source": [
    "!gcloud iam service-accounts \\\n",
    "    create sa-function-runner \\\n",
    "    --project=\"gcphde-prim-synth-data\" \\\n",
    "    --display-name=\"Service Account For Function Runner\" \\\n",
    "    --description=\"Service Account For Function Runner\"\n",
    "\n",
    "!gcloud iam service-accounts \\\n",
    "    create sa-schedule-runner \\\n",
    "    --project=\"gcphde-prim-synth-data\" \\\n",
    "    --display-name=\"Service Account For Schedule Runner\" \\\n",
    "    --description=\"Service Account For Schedule Runner\"\n",
    "\n",
    "!gcloud iam service-accounts \\\n",
    "    create sa-pubsub-dataflow \\\n",
    "    --project=\"gcphde-prim-synth-data\" \\\n",
    "    --display-name=\"Service Account For Pub/Sub and Dataflow\" \\\n",
    "    --description=\"Service Account For Pub/Sub and Dataflow\"\n",
    "\n",
    "!gcloud iam service-accounts \\\n",
    "    create sa-data-team-specific \\\n",
    "    --project=\"gcphde-prim-synth-data\" \\\n",
    "    --display-name=\"Service Account For Data Team\" \\\n",
    "    --description=\"Service Account For Data Team\""
   ]
  },
  {
   "cell_type": "code",
   "execution_count": null,
   "metadata": {},
   "outputs": [],
   "source": [
    "# "
   ]
  }
 ],
 "metadata": {
  "kernelspec": {
   "display_name": ".venv",
   "language": "python",
   "name": "python3"
  },
  "language_info": {
   "codemirror_mode": {
    "name": "ipython",
    "version": 3
   },
   "file_extension": ".py",
   "mimetype": "text/x-python",
   "name": "python",
   "nbconvert_exporter": "python",
   "pygments_lexer": "ipython3",
   "version": "3.12.5"
  }
 },
 "nbformat": 4,
 "nbformat_minor": 2
}
